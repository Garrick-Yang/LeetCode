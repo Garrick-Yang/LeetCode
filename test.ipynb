{
 "cells": [
  {
   "cell_type": "code",
   "execution_count": 6,
   "metadata": {},
   "outputs": [
    {
     "name": "stdout",
     "output_type": "stream",
     "text": [
      "1\n",
      "deque([2, 3])\n",
      "3\n",
      "deque([2])\n"
     ]
    }
   ],
   "source": [
    "from collections import deque\n",
    "\n",
    "# 创建一个队列\n",
    "queue = deque([1, 2, 3])\n",
    "\n",
    "# 从队头弹出元素\n",
    "element = queue.popleft()  # element的值为1，queue变为[2, 3]\n",
    "print(element)\n",
    "print(queue)\n",
    "\n",
    "# 如果想从队尾弹出元素（虽然不常见），可以使用：\n",
    "element = queue.pop()  # element的值为3，queue变为[2]\n",
    "print(element)\n",
    "print(queue)"
   ]
  },
  {
   "cell_type": "code",
   "execution_count": 7,
   "metadata": {},
   "outputs": [
    {
     "name": "stdout",
     "output_type": "stream",
     "text": [
      "deque([2, 4])\n"
     ]
    }
   ],
   "source": [
    "queue.append(4)  # queue变为[2, 4]\n",
    "print(queue)"
   ]
  },
  {
   "cell_type": "code",
   "execution_count": 8,
   "metadata": {},
   "outputs": [
    {
     "name": "stdout",
     "output_type": "stream",
     "text": [
      "deque([2])\n"
     ]
    }
   ],
   "source": [
    "queue.pop()  # queue变为[2]\n",
    "print(queue)"
   ]
  },
  {
   "cell_type": "code",
   "execution_count": null,
   "metadata": {},
   "outputs": [],
   "source": []
  }
 ],
 "metadata": {
  "kernelspec": {
   "display_name": "base",
   "language": "python",
   "name": "python3"
  },
  "language_info": {
   "codemirror_mode": {
    "name": "ipython",
    "version": 3
   },
   "file_extension": ".py",
   "mimetype": "text/x-python",
   "name": "python",
   "nbconvert_exporter": "python",
   "pygments_lexer": "ipython3",
   "version": "3.11.4"
  }
 },
 "nbformat": 4,
 "nbformat_minor": 2
}
